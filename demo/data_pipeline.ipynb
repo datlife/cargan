{
 "cells": [
  {
   "cell_type": "code",
   "execution_count": 1,
   "metadata": {},
   "outputs": [],
   "source": [
    "import os\n",
    "import re\n",
    "import cv2\n",
    "import time\n",
    "import datetime\n",
    "\n",
    "import ephem\n",
    "import pandas as pd\n",
    "import multiprocessing as mp\n",
    "from cargan.utils.IPCam import IPCam\n",
    "\n",
    "import sys\n",
    "from jinja2 import Environment, FileSystemLoader\n",
    "\n",
    "DATASET = 'data.tsv'\n",
    "DEFAULT_DIR = './IPCam'\n",
    "DEFAULT_SEQ = 10"
   ]
  },
  {
   "cell_type": "code",
   "execution_count": 2,
   "metadata": {},
   "outputs": [],
   "source": [
    "def has_day_light(row):\n",
    "    o = ephem.Observer()\n",
    "    o.lat = str(row['latitude'])\n",
    "    o.long = str(row['longitude'])\n",
    "    sun = ephem.Sun(o)\n",
    "    return float(sun.alt)\n",
    "\n",
    "def func(ip):\n",
    "    camera = IPCam(ip['ip_cam'])\n",
    "    parent_dir = '_'.join([re.sub(r'\\W+', '', ip['city']) ,\n",
    "                           re.sub(r'\\W+', '', ip['code']),\n",
    "                           str(ip['zip']).strip('-_')])\n",
    "\n",
    "    sequence_dir = '_'.join(['day' if ip['current_lighting'] > 0.1 else 'night', \n",
    "                             datetime.datetime.now().strftime(\"%Y%m%d_%H%M%S\")])\n",
    "    output_dir = os.path.join(DEFAULT_DIR, parent_dir, sequence_dir)\n",
    "    if not os.path.isdir(output_dir):\n",
    "        try:\n",
    "            os.makedirs(output_dir)\n",
    "        except Exception as error:\n",
    "            print(error)\n",
    "            pass\n",
    "\n",
    "    with open(os.path.join(output_dir, 'ip_address.txt'),'w') as fio:\n",
    "        fio.write(ip['ip_cam'])\n",
    "        \n",
    "    try:\n",
    "        start_time = time.time()\n",
    "        frames = camera.get_sequence(DEFAULT_SEQ)\n",
    "        [cv2.imwrite(os.path.join(output_dir,'%s.jpg' % frame_id), frame) \n",
    "         for frame_id, frame in enumerate(frames)]       \n",
    "        print(\"--- Completed %s in  %s seconds ---\" % (os.path.join(parent_dir, sequence_dir), \n",
    "                                                       time.time() - start_time))\n",
    "        return {parent_dir: {\n",
    "            ip['ip_cam']: [os.path.join(parent_dir, sequence_dir,'%s.jpg' % frame_id)\n",
    "                            for frame_id in range(len(frames))]\n",
    "        }}\n",
    "    except Exception as error:\n",
    "        os.rmdir(output_dir)\n",
    "        print(\"Remove %s becase of %s\" % (output_dir, error))\n",
    "        pass"
   ]
  },
  {
   "cell_type": "code",
   "execution_count": 3,
   "metadata": {},
   "outputs": [
    {
     "data": {
      "text/plain": [
       "51"
      ]
     },
     "execution_count": 3,
     "metadata": {},
     "output_type": "execute_result"
    }
   ],
   "source": [
    "df = pd.read_csv(DATASET,sep='\\t')\n",
    "df['current_lighting'] = df.T.apply(lambda row: has_day_light(row))\n",
    "_ = df.pop('Notes')\n",
    "df = df.sort_values(by=['current_lighting'], axis=0,ascending=False)\n",
    "df = df.reset_index(drop=True)\n",
    "df = df[df.current_lighting >= 0.05]\n",
    "len(df)"
   ]
  },
  {
   "cell_type": "code",
   "execution_count": 4,
   "metadata": {},
   "outputs": [
    {
     "name": "stdout",
     "output_type": "stream",
     "text": [
      "--- Completed Anseong_KR_456-320/day_20180209_233008 in  7.69831418991 seconds ---\n",
      "--- Completed Seoul_KR_100-101/day_20180209_233008 in  11.2769970894 seconds ---\n",
      "--- Completed Seoul_KR_100-101/day_20180209_233016 in  10.4973909855 seconds ---\n",
      "--- Completed Jakarta_ID_14310/day_20180209_233008 in  19.6783950329 seconds ---\n",
      "--- Completed Seoul_KR_100-101/day_20180209_233019 in  12.3607752323 seconds ---\n",
      "--- Completed Seoul_KR_100-101/day_20180209_233026 in  9.99733018875 seconds ---\n",
      "--- Completed Taipei_TW_100/day_20180209_233008 in  31.0860202312 seconds ---\n",
      "--- Completed Seoul_KR_100-101/day_20180209_233032 in  13.0347969532 seconds ---\n",
      "--- Completed Seoul_KR_100-101/day_20180209_233036 in  11.0662438869 seconds ---\n",
      "--- Completed Seoul_KR_100-101/day_20180209_233045 in  10.5256199837 seconds ---\n",
      "--- Completed Seoul_KR_100-101/day_20180209_233047 in  10.8716719151 seconds ---\n",
      "--- Completed Taipei_TW_100/day_20180209_233039 in  21.2213439941 seconds ---\n",
      "--- Completed Seoul_KR_100-101/day_20180209_233055 in  10.6312761307 seconds ---\n",
      "--- Completed Seoul_KR_463-711/day_20180209_233058 in  10.0201818943 seconds ---\n",
      "--- Completed Seoul_KR_100-101/day_20180209_233106 in  12.3864700794 seconds ---\n",
      "--- Completed RostovNaDonu_RU_344961/day_20180209_233100 in  18.4997529984 seconds ---\n",
      "--- Completed Seoul_KR_100-101/day_20180209_233108 in  11.6959540844 seconds ---\n",
      "--- Completed Seoul_KR_100-101/day_20180209_233118 in  10.5069260597 seconds ---\n",
      "--- Completed Bangkok_TH_10200/day_20180209_233028 in  61.7889120579 seconds ---\n",
      "--- Completed Seoul_KR_100-101/day_20180209_233120 in  11.7273008823 seconds ---\n",
      "--- Completed Chisinau_MD_MD-2000/day_20180209_233119 in  16.384223938 seconds ---\n",
      "--- Completed Taipei_TW_10048/day_20180209_233130 in  8.87366294861 seconds ---\n",
      "--- Completed Seoul_KR_100-101/day_20180209_233129 in  11.7330880165 seconds ---\n",
      "--- Completed Seoul_KR_100-101/day_20180209_233132 in  11.323114872 seconds ---\n",
      "--- Completed Seoul_KR_100-101/day_20180209_233135 in  12.7958290577 seconds ---\n",
      "--- Completed Taipei_TW_100/day_20180209_233139 in  11.3732969761 seconds ---\n",
      "--- Completed Seoul_KR_100-101/day_20180209_233141 in  11.0029940605 seconds ---\n",
      "--- Completed Seoul_KR_100-101/day_20180209_233143 in  11.5234730244 seconds ---\n",
      "--- Completed Moscow_RU_142171/day_20180209_233150 in  8.88011288643 seconds ---\n",
      "--- Completed Seoul_KR_100-101/day_20180209_233148 in  11.320045948 seconds ---\n",
      "--- Completed Seoul_KR_100-101/day_20180209_233152 in  10.3086311817 seconds ---\n",
      "--- Completed Seoul_KR_100-101/day_20180209_233155 in  11.5457680225 seconds ---\n",
      "--- Completed Nagano_JP_380-0838/day_20180209_233159 in  9.73865199089 seconds ---\n",
      "--- Completed Seoul_KR_100-101/day_20180209_233159 in  12.7978658676 seconds ---\n",
      "--- Completed Ulsan_KR_680-802/day_20180209_233202 in  10.8517079353 seconds ---\n",
      "--- Completed Seoul_KR_100-101/day_20180209_233206 in  10.6393780708 seconds ---\n",
      "--- Completed Nagano_JP_380-0838/day_20180209_233209 in  12.7808840275 seconds ---\n",
      "--- Completed Seoul_KR_100-101/day_20180209_233212 in  10.5395579338 seconds ---\n",
      "--- Completed Belgrade_RS_11118/day_20180209_233213 in  11.9643251896 seconds ---\n",
      "--- Completed Milano_IT_20155/day_20180209_233217 in  13.4471538067 seconds ---\n",
      "--- Completed Tranbjerg_DK_8310/night_20180209_233225 in  7.5339910984 seconds ---\n",
      "--- Completed Tallinn_EE_15169/day_20180209_233223 in  21.3669908047 seconds ---\n",
      "--- Completed Groningen_NL_9740/night_20180209_233232 in  15.6490700245 seconds ---\n",
      "--- Completed Tokyo_JP_214-0021/day_20180209_233230 in  26.8870418072 seconds ---\n",
      "--- Completed Utrecht_NL_3525/night_20180209_233248 in  11.1215949059 seconds ---\n",
      "--- Completed Liepaja_LV_/day_20180209_233257 in  16.2677469254 seconds ---\n",
      "--- Completed Helsinki_FI_210/day_20180209_233244 in  29.8718159199 seconds ---\n",
      "--- Completed Rakovnik_CZ_269 02/day_20180209_233221 in  53.5501418114 seconds ---\n"
     ]
    },
    {
     "ename": "OSError",
     "evalue": "[Errno 39] Directory not empty: './IPCam/Tochigi_JP_328-0024/day_20180209_233313'",
     "output_type": "error",
     "traceback": [
      "\u001b[0;31m---------------------------------------------------------------------------\u001b[0m",
      "\u001b[0;31mOSError\u001b[0m                                   Traceback (most recent call last)",
      "\u001b[0;32m<ipython-input-4-0f16823143a4>\u001b[0m in \u001b[0;36m<module>\u001b[0;34m()\u001b[0m\n\u001b[1;32m      2\u001b[0m \u001b[0mpool\u001b[0m \u001b[0;34m=\u001b[0m \u001b[0mmp\u001b[0m\u001b[0;34m.\u001b[0m\u001b[0mPool\u001b[0m\u001b[0;34m(\u001b[0m\u001b[0mcpu\u001b[0m\u001b[0;34m)\u001b[0m\u001b[0;34m\u001b[0m\u001b[0m\n\u001b[1;32m      3\u001b[0m \u001b[0mtemp\u001b[0m \u001b[0;34m=\u001b[0m \u001b[0mdf\u001b[0m\u001b[0;34m.\u001b[0m\u001b[0mT\u001b[0m\u001b[0;34m.\u001b[0m\u001b[0mto_dict\u001b[0m\u001b[0;34m(\u001b[0m\u001b[0;34m)\u001b[0m\u001b[0;34m\u001b[0m\u001b[0m\n\u001b[0;32m----> 4\u001b[0;31m \u001b[0mresults\u001b[0m \u001b[0;34m=\u001b[0m \u001b[0mpool\u001b[0m\u001b[0;34m.\u001b[0m\u001b[0mmap\u001b[0m\u001b[0;34m(\u001b[0m\u001b[0mfunc\u001b[0m\u001b[0;34m,\u001b[0m\u001b[0;34m[\u001b[0m\u001b[0mtemp\u001b[0m\u001b[0;34m[\u001b[0m\u001b[0mkey\u001b[0m\u001b[0;34m]\u001b[0m \u001b[0;32mfor\u001b[0m \u001b[0mkey\u001b[0m \u001b[0;32min\u001b[0m \u001b[0mtemp\u001b[0m\u001b[0;34m]\u001b[0m\u001b[0;34m)\u001b[0m\u001b[0;34m\u001b[0m\u001b[0m\n\u001b[0m",
      "\u001b[0;32m/home/dat/anaconda3/envs/webapp/lib/python2.7/multiprocessing/pool.pyc\u001b[0m in \u001b[0;36mmap\u001b[0;34m(self, func, iterable, chunksize)\u001b[0m\n\u001b[1;32m    251\u001b[0m         '''\n\u001b[1;32m    252\u001b[0m         \u001b[0;32massert\u001b[0m \u001b[0mself\u001b[0m\u001b[0;34m.\u001b[0m\u001b[0m_state\u001b[0m \u001b[0;34m==\u001b[0m \u001b[0mRUN\u001b[0m\u001b[0;34m\u001b[0m\u001b[0m\n\u001b[0;32m--> 253\u001b[0;31m         \u001b[0;32mreturn\u001b[0m \u001b[0mself\u001b[0m\u001b[0;34m.\u001b[0m\u001b[0mmap_async\u001b[0m\u001b[0;34m(\u001b[0m\u001b[0mfunc\u001b[0m\u001b[0;34m,\u001b[0m \u001b[0miterable\u001b[0m\u001b[0;34m,\u001b[0m \u001b[0mchunksize\u001b[0m\u001b[0;34m)\u001b[0m\u001b[0;34m.\u001b[0m\u001b[0mget\u001b[0m\u001b[0;34m(\u001b[0m\u001b[0;34m)\u001b[0m\u001b[0;34m\u001b[0m\u001b[0m\n\u001b[0m\u001b[1;32m    254\u001b[0m \u001b[0;34m\u001b[0m\u001b[0m\n\u001b[1;32m    255\u001b[0m     \u001b[0;32mdef\u001b[0m \u001b[0mimap\u001b[0m\u001b[0;34m(\u001b[0m\u001b[0mself\u001b[0m\u001b[0;34m,\u001b[0m \u001b[0mfunc\u001b[0m\u001b[0;34m,\u001b[0m \u001b[0miterable\u001b[0m\u001b[0;34m,\u001b[0m \u001b[0mchunksize\u001b[0m\u001b[0;34m=\u001b[0m\u001b[0;36m1\u001b[0m\u001b[0;34m)\u001b[0m\u001b[0;34m:\u001b[0m\u001b[0;34m\u001b[0m\u001b[0m\n",
      "\u001b[0;32m/home/dat/anaconda3/envs/webapp/lib/python2.7/multiprocessing/pool.pyc\u001b[0m in \u001b[0;36mget\u001b[0;34m(self, timeout)\u001b[0m\n\u001b[1;32m    570\u001b[0m             \u001b[0;32mreturn\u001b[0m \u001b[0mself\u001b[0m\u001b[0;34m.\u001b[0m\u001b[0m_value\u001b[0m\u001b[0;34m\u001b[0m\u001b[0m\n\u001b[1;32m    571\u001b[0m         \u001b[0;32melse\u001b[0m\u001b[0;34m:\u001b[0m\u001b[0;34m\u001b[0m\u001b[0m\n\u001b[0;32m--> 572\u001b[0;31m             \u001b[0;32mraise\u001b[0m \u001b[0mself\u001b[0m\u001b[0;34m.\u001b[0m\u001b[0m_value\u001b[0m\u001b[0;34m\u001b[0m\u001b[0m\n\u001b[0m\u001b[1;32m    573\u001b[0m \u001b[0;34m\u001b[0m\u001b[0m\n\u001b[1;32m    574\u001b[0m     \u001b[0;32mdef\u001b[0m \u001b[0m_set\u001b[0m\u001b[0;34m(\u001b[0m\u001b[0mself\u001b[0m\u001b[0;34m,\u001b[0m \u001b[0mi\u001b[0m\u001b[0;34m,\u001b[0m \u001b[0mobj\u001b[0m\u001b[0;34m)\u001b[0m\u001b[0;34m:\u001b[0m\u001b[0;34m\u001b[0m\u001b[0m\n",
      "\u001b[0;31mOSError\u001b[0m: [Errno 39] Directory not empty: './IPCam/Tochigi_JP_328-0024/day_20180209_233313'"
     ]
    },
    {
     "name": "stdout",
     "output_type": "stream",
     "text": [
      "--- Completed Stockholm_SE_19587/night_20180209_233314 in  13.3432910442 seconds ---\n",
      "--- Completed Stockholm_SE_19587/night_20180209_233327 in  18.4150769711 seconds ---\n"
     ]
    }
   ],
   "source": [
    "cpu = 4\n",
    "pool = mp.Pool(cpu)\n",
    "temp = df.T.to_dict()\n",
    "results = pool.map(func,[temp[key] for key in temp])"
   ]
  },
  {
   "cell_type": "code",
   "execution_count": null,
   "metadata": {},
   "outputs": [],
   "source": [
    "env = Environment(loader=FileSystemLoader(os.path.join(sys.path[0], 'templates')))\n",
    "template = env.get_template('overview.html')\n",
    "parsed_template = template.render(videos=results)\n",
    "with open(os.path.join(DEFAULT_DIR,'visualization.html'), \"w\") as fio:\n",
    "    fio.write(parsed_template)"
   ]
  },
  {
   "cell_type": "code",
   "execution_count": null,
   "metadata": {},
   "outputs": [],
   "source": [
    "results"
   ]
  },
  {
   "cell_type": "code",
   "execution_count": null,
   "metadata": {},
   "outputs": [],
   "source": []
  },
  {
   "cell_type": "code",
   "execution_count": null,
   "metadata": {},
   "outputs": [],
   "source": []
  }
 ],
 "metadata": {
  "kernelspec": {
   "display_name": "Python 2",
   "language": "python",
   "name": "python2"
  },
  "language_info": {
   "codemirror_mode": {
    "name": "ipython",
    "version": 2
   },
   "file_extension": ".py",
   "mimetype": "text/x-python",
   "name": "python",
   "nbconvert_exporter": "python",
   "pygments_lexer": "ipython2",
   "version": "2.7.14"
  }
 },
 "nbformat": 4,
 "nbformat_minor": 2
}
